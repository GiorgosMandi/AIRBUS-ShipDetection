{
 "cells": [
  {
   "cell_type": "markdown",
   "metadata": {
    "pycharm": {
     "is_executing": false,
     "name": "#%% md\n"
    }
   },
   "source": [
    "# PSPNET Model\n",
    "In this notebook I examine the performance of PSPNEt."
   ]
  },
  {
   "cell_type": "code",
   "execution_count": null,
   "outputs": [],
   "source": [
    "import os\n",
    "import sys\n",
    "sys.path.insert(0, \"..\")\n",
    "import gc\n",
    "gc.enable()\n",
    "os.environ['KERAS_BACKEND'] = 'tensorflow'\n",
    "import tensorflow as tf\n",
    "print(\"Num GPUs Available: \", len(tf.config.experimental.list_physical_devices('GPU')))"
   ],
   "metadata": {
    "collapsed": false,
    "pycharm": {
     "name": "#%%\n"
    }
   }
  },
  {
   "cell_type": "code",
   "execution_count": null,
   "metadata": {
    "pycharm": {
     "is_executing": false
    },
    "tags": []
   },
   "outputs": [],
   "source": [
    "import os\n",
    "import sys\n",
    "sys.path.insert(0, os.getcwd())\n",
    "from utils.DataLoader import  DataLoader\n",
    "from utils.utilities import *\n",
    "from utils.visualization import *\n",
    "from models.pspnet import PSPNet\n",
    "import tensorflow as tf"
   ]
  },
  {
   "cell_type": "markdown",
   "source": [
    "### Loading the data and splitting them into training and validation sets"
   ],
   "metadata": {
    "collapsed": false
   }
  },
  {
   "cell_type": "code",
   "execution_count": null,
   "metadata": {
    "pycharm": {
     "is_executing": false,
     "name": "#%%\n"
    },
    "tags": []
   },
   "outputs": [],
   "source": [
    "tf.debugging.set_log_device_placement(True)\n",
    "dl = DataLoader()\n",
    "train_df, valid_df = dl.train_split(0.05, filterNan=True)\n",
    "print(\"train set shape\", train_df.shape)\n",
    "print(\"validation set shape\", valid_df.shape)"
   ]
  },
  {
   "cell_type": "markdown",
   "source": [
    "### The images are Loaded through a generator which is forwarded to a data augmentation generator"
   ],
   "metadata": {
    "collapsed": false
   }
  },
  {
   "cell_type": "code",
   "execution_count": null,
   "outputs": [],
   "source": [
    "grouped_images_gen = dl.get_grouped_images_gen(train_df, img_scaling=(3,3), f=\"adaptive_equalization\") # applying filters increases dramatically the execution time\n",
    "aug_gen = get_augmented_images_generator(grouped_images_gen)\n",
    "valid_x, valid_y = next(dl.get_grouped_images_gen(valid_df, batch_size=900, img_scaling=(3,3), f=\"adaptive_equalization\")) #valid_df.shape[0]))\n"
   ],
   "metadata": {
    "collapsed": false,
    "pycharm": {
     "name": "#%%\n"
    }
   }
  },
  {
   "cell_type": "markdown",
   "source": [
    "## Initializing PSPNet Model"
   ],
   "metadata": {
    "collapsed": false
   }
  },
  {
   "cell_type": "code",
   "execution_count": null,
   "metadata": {
    "pycharm": {
     "is_executing": false,
     "name": "#%%\n"
    }
   },
   "outputs": [],
   "source": [
    "t_x, t_y = next(aug_gen)\n",
    "x_shape =np.squeeze(t_x[0]).shape\n",
    "psp_model = PSPNet(x_shape, \"../models/serialized/\")\n",
    "psp_model.compile()\n"
   ]
  },
  {
   "cell_type": "markdown",
   "source": [
    "## Training"
   ],
   "metadata": {
    "collapsed": false
   }
  },
  {
   "cell_type": "code",
   "execution_count": null,
   "metadata": {},
   "outputs": [],
   "source": [
    "hl = psp_model.validate(aug_gen, train_df.shape[0], valid_set=(valid_x, valid_y), epochs=15, train_steps=400)\n",
    "psp_model.show_loss(hl)\n"
   ]
  },
  {
   "cell_type": "markdown",
   "source": [
    "## Examine its Performance in Testing set."
   ],
   "metadata": {
    "collapsed": false
   }
  },
  {
   "cell_type": "code",
   "execution_count": null,
   "metadata": {
    "collapsed": true,
    "pycharm": {
     "is_executing": false,
     "name": "#%%\n"
    }
   },
   "outputs": [],
   "source": [
    "test_x, test_y = next(dl.get_grouped_images_gen(batch_size=40, train=False, f=\"adaptive_equalization\"))\n",
    "psp_model.examine_performance(test_x, test_y, load=True)"
   ]
  }
 ],
 "metadata": {
  "kernelspec": {
   "display_name": "PyCharm (DSIT-BigDataAnalytics)",
   "language": "python",
   "name": "pycharm-80ab35c8"
  },
  "language_info": {
   "codemirror_mode": {
    "name": "ipython",
    "version": 3
   },
   "file_extension": ".py",
   "mimetype": "text/x-python",
   "name": "python",
   "nbconvert_exporter": "python",
   "pygments_lexer": "ipython3",
   "version": "3.7.5"
  },
  "pycharm": {
   "stem_cell": {
    "cell_type": "raw",
    "source": [],
    "metadata": {
     "collapsed": false
    }
   }
  }
 },
 "nbformat": 4,
 "nbformat_minor": 1
}