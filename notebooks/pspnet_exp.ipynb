{
 "cells": [
  {
   "cell_type": "code",
   "execution_count": null,
   "metadata": {
    "collapsed": true,
    "pycharm": {
     "is_executing": false
    }
   },
   "outputs": [],
   "source": [
    "import os\n",
    "import sys\n",
    "sys.path.insert(0, \"..\")\n",
    "import gc\n",
    "gc.enable()\n"
   ]
  },
  {
   "cell_type": "code",
   "execution_count": null,
   "metadata": {
    "tags": []
   },
   "outputs": [],
   "source": [
    "\n",
    "import os\n",
    "import sys\n",
    "sys.path.insert(0, os.getcwd())\n",
    "from utils.DataLoader import  DataLoader\n",
    "from utils.utilities import *\n",
    "from utils.visualization import *\n",
    "from models.pspnet import PSPNet\n",
    "import tensorflow as tf\n",
    "\n",
    "print(\"Num GPUs Available: \", len(tf.config.experimental.list_physical_devices('GPU')))\n",
    "\n",
    "tf.debugging.set_log_device_placement(True)\n",
    "dl = DataLoader()"
   ]
  },
  {
   "cell_type": "code",
   "execution_count": null,
   "outputs": [],
   "source": [
    "train_df, valid_df = dl.train_split(0.2, filterNan=True)\n",
    "print(\"train set shape\", train_df.shape)\n",
    "print(\"validation set shape\", valid_df.shape)"
   ],
   "metadata": {
    "collapsed": false,
    "pycharm": {
     "name": "#%%\n",
     "is_executing": false
    },
    "tags": []
   }
  },
  {
   "cell_type": "code",
   "execution_count": null,
   "outputs": [],
   "source": [
    "grouped_images_gen = dl.get_grouped_images_gen(train_df)#, f=\"adaptive_equalization\") # applying filters increases dramatically the execution time\n",
    "aug_gen = get_augmented_images_generator(grouped_images_gen)\n",
    "valid_x, valid_y = next(dl.get_grouped_images_gen(valid_df, batch_size=500))#, f=\"adaptive_equalization\")) #valid_df.shape[0]))"
   ],
   "metadata": {
    "collapsed": false,
    "pycharm": {
     "name": "#%%\n",
     "is_executing": false
    }
   }
  },
  {
   "cell_type": "code",
   "execution_count": null,
   "outputs": [],
   "source": [
    "t_x, t_y = next(aug_gen)\n",
    "x_shape =np.squeeze(t_x[0]).shape\n",
    "psp_model = PSPNet(x_shape)\n",
    "psp_model.compile()"
   ],
   "metadata": {
    "collapsed": false,
    "pycharm": {
     "name": "#%%\n",
     "is_executing": false
    }
   }
  },
  {
   "cell_type": "code",
   "execution_count": null,
   "outputs": [],
   "source": [
    "hl = psp_model.validate(aug_gen, train_df.shape[0], valid_set=(valid_x, valid_y), epochs=3)\n",
    "psp_model.show_loss(hl)"
   ],
   "metadata": {
    "collapsed": false,
    "pycharm": {
     "name": "#%%\n",
     "is_executing": false
    }
   }
  },
  {
   "cell_type": "code",
   "execution_count": null,
   "outputs": [],
   "source": [
    "fig, m_axs = plt.subplots(50, 3, figsize = (10, 100))\n",
    "for i, (ax1, ax2, ax3) in enumerate(m_axs):\n",
    "    test_img = np.expand_dims(valid_x[i], 0)\n",
    "    y = psp_model.infer(test_img)\n",
    "    ax1.imshow(valid_x[i])\n",
    "    ax1.set_title('Image')\n",
    "    ax2.imshow(valid_y[i])\n",
    "    ax2.set_title('Mask')\n",
    "    ax3.imshow(y[0, :, :, 0], vmin = 0, vmax = 1)\n",
    "    ax3.set_title('Prediction')\n",
    "plt.show()"
   ],
   "metadata": {
    "collapsed": false,
    "pycharm": {
     "name": "#%%\n"
    }
   }
  }
 ],
 "metadata": {
  "kernelspec": {
   "display_name": "PyCharm (DSIT-BigDataAnalytics)",
   "language": "python",
   "name": "pycharm-80ab35c8"
  },
  "language_info": {
   "codemirror_mode": {
    "name": "ipython",
    "version": 2
   },
   "file_extension": ".py",
   "mimetype": "text/x-python",
   "name": "python",
   "nbconvert_exporter": "python",
   "pygments_lexer": "ipython2",
   "version": "3.7.5-final"
  },
  "pycharm": {
   "stem_cell": {
    "cell_type": "raw",
    "source": [],
    "metadata": {
     "collapsed": false
    }
   }
  }
 },
 "nbformat": 4,
 "nbformat_minor": 0
}