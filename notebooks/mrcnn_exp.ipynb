{
 "cells": [
  {
   "cell_type": "markdown",
   "source": [
    "# Mask-RCNN Model\n",
    "In this notebook I examine the performance of Maks-RCNN"
   ],
   "metadata": {
    "collapsed": false
   }
  },
  {
   "cell_type": "code",
   "execution_count": null,
   "metadata": {
    "pycharm": {
     "is_executing": false
    }
   },
   "outputs": [],
   "source": [
    "import os\n",
    "import sys\n",
    "sys.path.insert(0, \"..\")\n",
    "import gc\n",
    "gc.enable()"
   ]
  },
  {
   "cell_type": "code",
   "execution_count": null,
   "metadata": {
    "pycharm": {
     "is_executing": false
    },
    "tags": []
   },
   "outputs": [],
   "source": [
    "sys.path.insert(0, os.getcwd())\n",
    "from models.mask_rcnn import MRCNN\n",
    "from utils.utilities import *\n",
    "import tensorflow as tf\n",
    "import gc\n",
    "gc.enable()\n",
    "print(\"Num GPUs Available: \", len(tf.config.experimental.list_physical_devices('GPU')))\n",
    "tf.debugging.set_log_device_placement(True)\n",
    "\n",
    "from utils.DataLoader import  DataLoader\n",
    "from models.mask_rcnn import DetectorDataset"
   ]
  },
  {
   "cell_type": "markdown",
   "metadata": {
    "pycharm": {
     "is_executing": false,
     "name": "#%% md\n"
    },
    "tags": []
   },
   "source": [
    "### Initializing Mask-RCNN's data Loader based on DataLoader"
   ]
  },
  {
   "cell_type": "code",
   "execution_count": null,
   "outputs": [],
   "source": [
    "dl = DataLoader()\n",
    "train_df, valid_df = dl.train_split(0.05, filterNan=True)\n",
    "\n",
    "dd_train = DetectorDataset(train_df, shape=(256, 256))\n",
    "dd_train.prepare()\n",
    "dd_valid = DetectorDataset(valid_df, shape=(256, 256))\n",
    "dd_valid.prepare()\n",
    "\n",
    "print(train_df.shape)\n",
    "print(valid_df.shape)"
   ],
   "metadata": {
    "collapsed": false,
    "pycharm": {
     "name": "#%%\n"
    }
   }
  },
  {
   "cell_type": "markdown",
   "source": [
    "### An example of Mask-RCNN data augmentation"
   ],
   "metadata": {
    "collapsed": false
   }
  },
  {
   "cell_type": "code",
   "execution_count": null,
   "outputs": [],
   "source": [
    "import random\n",
    "import matplotlib.pyplot as plt\n",
    "\n",
    "class_ids = [0]\n",
    "while class_ids[0] == 0:  ## look for a mask\n",
    "    image_id = random.choice(dd_valid.image_ids)\n",
    "    image_fp = dd_valid.image_reference(image_id)\n",
    "    image = dd_valid.load_image(image_id)\n",
    "    mask, class_ids = dd_valid.load_mask(image_id)\n",
    "\n",
    "print(image.shape)\n",
    "\n",
    "plt.figure(figsize=(10, 10))\n",
    "plt.subplot(1, 2, 1)\n",
    "plt.imshow(image)\n",
    "plt.axis('off')\n",
    "\n",
    "plt.subplot(1, 2, 2)\n",
    "masked = np.zeros(image.shape[:2])\n",
    "for i in range(mask.shape[2]):\n",
    "    masked += mask[:, :, i] ## * image[:, :, 0]\n",
    "plt.imshow(masked, cmap='gray')\n",
    "plt.axis('off')\n",
    "\n",
    "print(image_fp)\n",
    "print(class_ids)"
   ],
   "metadata": {
    "collapsed": false,
    "pycharm": {
     "name": "#%%\n"
    }
   }
  },
  {
   "cell_type": "markdown",
   "metadata": {
    "pycharm": {
     "is_executing": true,
     "name": "#%% md\n"
    },
    "tags": []
   },
   "source": [
    "### Loading Mask-RCNN and Training"
   ]
  },
  {
   "cell_type": "code",
   "execution_count": null,
   "outputs": [],
   "source": [
    "mrcnn = MRCNN(model_folder=\"../models/serialized/\")\n",
    "h = mrcnn.train(dd_train, dd_valid, epochs=15, layers='all')\n",
    "mrcnn.show_loss(h)"
   ],
   "metadata": {
    "collapsed": false,
    "pycharm": {
     "name": "#%%\n"
    }
   }
  },
  {
   "cell_type": "markdown",
   "metadata": {
    "pycharm": {
     "is_executing": false,
     "name": "#%% md\n"
    }
   },
   "source": [
    "### Loading testing set and examining Mask-RCNN performance"
   ]
  },
  {
   "cell_type": "code",
   "execution_count": null,
   "outputs": [],
   "source": [
    "#mrcnn = MRCNN('/home/gmandi/Documents/DSIT/Deep-Learning/AIRBUS-Ship_Detection/models/serialized/mask-rcnn20200917T2003/mask_rcnn_mask-rcnn_0010.h5', model_folder=\"../models/serialized/\")\n",
    "dd_test = DetectorDataset(dl.test, shape=(256, 256))\n",
    "dd_test.prepare()\n",
    "len(dd_test.image_ids)\n",
    "\n",
    "mrcnn.examine_performance(dd_test)"
   ],
   "metadata": {
    "collapsed": false,
    "pycharm": {
     "name": "#%%\n"
    }
   }
  }
 ],
 "metadata": {
  "kernelspec": {
   "display_name": "PyCharm (DSIT-BigDataAnalytics)",
   "language": "python",
   "name": "pycharm-80ab35c8"
  },
  "language_info": {
   "codemirror_mode": {
    "name": "ipython",
    "version": 3
   },
   "file_extension": ".py",
   "mimetype": "text/x-python",
   "name": "python",
   "nbconvert_exporter": "python",
   "pygments_lexer": "ipython3",
   "version": "3.7.5"
  },
  "pycharm": {
   "stem_cell": {
    "cell_type": "raw",
    "source": [],
    "metadata": {
     "collapsed": false
    }
   }
  }
 },
 "nbformat": 4,
 "nbformat_minor": 2
}