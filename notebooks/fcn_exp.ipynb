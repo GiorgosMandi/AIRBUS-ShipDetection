{
 "cells": [
  {
   "cell_type": "code",
   "execution_count": null,
   "metadata": {
    "pycharm": {
     "is_executing": false
    }
   },
   "outputs": [],
   "source": [
    "import os\n",
    "import sys\n",
    "sys.path.insert(0, \"..\")\n",
    "import gc\n",
    "gc.enable()"
   ]
  },
  {
   "cell_type": "code",
   "execution_count": null,
   "metadata": {
    "pycharm": {
     "is_executing": false,
     "name": "#%%\n"
    }
   },
   "outputs": [],
   "source": [
    "import os\n",
    "import sys\n",
    "sys.path.insert(0, os.getcwd())\n",
    "from utils.DataLoader import  DataLoader\n",
    "from utils.utilities import *\n",
    "from utils.visualization import *\n",
    "from models.fcn8 import FCN8\n",
    "import tensorflow as tf\n",
    "\n",
    "print(\"Num GPUs Available: \", len(tf.config.experimental.list_physical_devices('GPU')))\n",
    "\n",
    "tf.debugging.set_log_device_placement(True)\n",
    "dl = DataLoader()"
   ]
  },
  {
   "cell_type": "code",
   "execution_count": null,
   "metadata": {
    "pycharm": {
     "is_executing": false,
     "name": "#%%\n"
    }
   },
   "outputs": [],
   "source": [
    "train_df, valid_df = dl.train_split(0.1, filterNan=True)\n",
    "print(\"train set shape\", train_df.shape)\n",
    "print(\"validation set shape\", valid_df.shape)"
   ]
  },
  {
   "cell_type": "code",
   "execution_count": null,
   "metadata": {
    "pycharm": {
     "is_executing": false,
     "name": "#%%\n"
    }
   },
   "outputs": [],
   "source": [
    "grouped_images_gen = dl.get_grouped_images_gen(train_df)#, f=\"adaptive_equalization\") # applying filters increases dramatically the execution time\n",
    "aug_gen = get_augmented_images_generator(grouped_images_gen)\n",
    "valid_x, valid_y = next(dl.get_grouped_images_gen(valid_df, batch_size=500))#, f=\"adaptive_equalization\")) #valid_df.shape[0]))"
   ]
  },
  {
   "cell_type": "code",
   "execution_count": null,
   "metadata": {
    "pycharm": {
     "is_executing": false,
     "name": "#%%\n"
    }
   },
   "outputs": [],
   "source": [
    "# todo adjust output to classes number\n",
    "\n",
    "t_x, t_y = next(aug_gen)\n",
    "x_shape =np.squeeze(t_x[0]).shape\n",
    "print(x_shape)\n",
    "fcn_model = FCN8(x_shape, \"../models/serialized/\")\n",
    "fcn_model.compile()"
   ]
  },
  {
   "cell_type": "code",
   "execution_count": null,
   "metadata": {
    "pycharm": {
     "is_executing": false,
     "name": "#%%\n"
    }
   },
   "outputs": [],
   "source": [
    "hl = fcn_model.validate(aug_gen, train_df.shape[0], valid_set=(valid_x, valid_y), epochs=15, train_steps=200)\n",
    "fcn_model.show_loss(hl)"
   ]
  },
  {
   "cell_type": "code",
   "execution_count": null,
   "metadata": {
    "pycharm": {
     "is_executing": false,
     "name": "#%%\n"
    },
    "scrolled": true
   },
   "outputs": [],
   "source": [
    "test_x, test_y = next(dl.get_grouped_images_gen(batch_size=40, train=False))\n",
    "fcn_model.examine_performance(test_x, test_y, load=True)"
   ]
  }
 ],
 "metadata": {
  "kernelspec": {
   "display_name": "Python 3",
   "language": "python",
   "name": "python3"
  },
  "language_info": {
   "codemirror_mode": {
    "name": "ipython",
    "version": 3
   },
   "file_extension": ".py",
   "mimetype": "text/x-python",
   "name": "python",
   "nbconvert_exporter": "python",
   "pygments_lexer": "ipython3",
   "version": "3.7.5"
  },
  "pycharm": {
   "stem_cell": {
    "cell_type": "raw",
    "metadata": {
     "collapsed": false
    },
    "source": []
   }
  }
 },
 "nbformat": 4,
 "nbformat_minor": 1
}