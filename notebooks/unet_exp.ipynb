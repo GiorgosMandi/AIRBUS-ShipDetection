{
 "metadata": {
  "language_info": {
   "codemirror_mode": {
    "name": "ipython",
    "version": 3
   },
   "file_extension": ".py",
   "mimetype": "text/x-python",
   "name": "python",
   "nbconvert_exporter": "python",
   "pygments_lexer": "ipython3",
   "version": "3.8.0-final"
  },
  "orig_nbformat": 2,
  "kernelspec": {
   "name": "pycharm-80ab35c8",
   "language": "python",
   "display_name": "PyCharm (DSIT-BigDataAnalytics)"
  },
  "pycharm": {
   "stem_cell": {
    "cell_type": "raw",
    "source": [],
    "metadata": {
     "collapsed": false
    }
   }
  }
 },
 "nbformat": 4,
 "nbformat_minor": 2,
 "cells": [
  {
   "cell_type": "code",
   "execution_count": null,
   "metadata": {
    "tags": [],
    "pycharm": {
     "is_executing": false
    }
   },
   "outputs": [],
   "source": [
    "import os\n",
    "import sys\n",
    "sys.path.insert(0, \"..\")\n",
    "import gc\n",
    "gc.enable()"
   ]
  },
  {
   "cell_type": "code",
   "execution_count": null,
   "metadata": {
    "tags": []
   },
   "outputs": [],
   "source": [
    "from utils.DataLoader import DataLoader\n",
    "from utils.utilities import *\n",
    "from utils.visualization import *\n",
    "from models.unet import UNet\n",
    "import tensorflow as tf\n",
    "\n",
    "print(\"Num GPUs Available: \", len(tf.config.experimental.list_physical_devices('GPU')))\n",
    "\n",
    "tf.debugging.set_log_device_placement(True)\n",
    "dl = DataLoader()"
   ]
  },
  {
   "cell_type": "code",
   "execution_count": null,
   "metadata": {
    "tags": [],
    "pycharm": {
     "is_executing": false
    }
   },
   "outputs": [],
   "source": [
    "train_df, valid_df = dl.train_split(0.2, filterNan=True)\n",
    "print(\"train set shape\", train_df.shape)\n",
    "print(\"validation set shape\", valid_df.shape)"
   ]
  },
  {
   "cell_type": "code",
   "execution_count": null,
   "metadata": {
    "pycharm": {
     "is_executing": true
    }
   },
   "outputs": [],
   "source": [
    "grouped_images_gen = dl.get_grouped_images_gen(train_df)#, f=\"adaptive_equalization\") # applying filters increases dramatically the execution time\n",
    "aug_gen = get_augmented_images_generator(grouped_images_gen)\n",
    "valid_x, valid_y = next(dl.get_grouped_images_gen(valid_df, batch_size=500))#, f=\"adaptive_equalization\")) #valid_df.shape[0]))"
   ]
  },
  {
   "cell_type": "code",
   "execution_count": null,
   "metadata": {
    "tags": [],
    "pycharm": {
     "is_executing": true
    }
   },
   "outputs": [],
   "source": [
    "t_x, t_y = next(aug_gen)\n",
    "x_shape =np.squeeze(t_x[0]).shape\n",
    "\n",
    "unet_model = UNet(x_shape)\n",
    "unet_model.compile()"
   ]
  },
  {
   "cell_type": "code",
   "execution_count": null,
   "metadata": {
    "tags": [],
    "pycharm": {
     "is_executing": true
    }
   },
   "outputs": [],
   "source": [
    "hl = unet_model.validate(aug_gen, train_df.shape[0], valid_set=(valid_x, valid_y), epochs=2)\n",
    "unet_model.show_loss(hl)"
   ]
  },
  {
   "cell_type": "code",
   "execution_count": null,
   "metadata": {},
   "outputs": [],
   "source": [
    "fig, m_axs = plt.subplots(50, 3, figsize = (10, 100))\n",
    "for i, (ax1, ax2, ax3) in enumerate(m_axs):\n",
    "    test_img = np.expand_dims(valid_x[i], 0)\n",
    "    y = unet_model.infer(test_img)\n",
    "    ax1.imshow(valid_x[i])\n",
    "    ax1.set_title('Image')\n",
    "    ax2.imshow(valid_y[i])\n",
    "    ax2.set_title('Mask')\n",
    "    ax3.imshow(y[0, :, :, 0], vmin = 0, vmax = 1)\n",
    "    ax3.set_title('Prediction')\n",
    "plt.show()"
   ]
  }
 ]
}